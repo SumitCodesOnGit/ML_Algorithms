{
 "cells": [
  {
   "cell_type": "markdown",
   "id": "9d0d0677",
   "metadata": {},
   "source": [
    "# DQN cartpole balance"
   ]
  },
  {
   "cell_type": "code",
   "execution_count": null,
   "id": "075fabc5",
   "metadata": {},
   "outputs": [],
   "source": [
    "import gymnasium as gym\n",
    "from stable_baselines 3 import DQN\n",
    "\n",
    "# create environment\n",
    "env = gym.make(\"CartPole-v1\")"
   ]
  }
 ],
 "metadata": {
  "kernelspec": {
   "display_name": "ds_env",
   "language": "python",
   "name": "python3"
  },
  "language_info": {
   "codemirror_mode": {
    "name": "ipython",
    "version": 3
   },
   "file_extension": ".py",
   "mimetype": "text/x-python",
   "name": "python",
   "nbconvert_exporter": "python",
   "pygments_lexer": "ipython3",
   "version": "3.11.11"
  }
 },
 "nbformat": 4,
 "nbformat_minor": 5
}
