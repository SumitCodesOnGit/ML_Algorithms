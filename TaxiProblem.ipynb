{
 "cells": [
  {
   "cell_type": "markdown",
   "id": "088b6c56",
   "metadata": {},
   "source": [
    "# Reinforcement Learning\n",
    "Let's describe a taxi problem. We want to build a self driving taxi that can pick up passengers at one of a set\n",
    "of fixed locations, drop them off at another location, and get there in quickest amount of time while avoiding\n",
    "obstacles.\n",
    "The AI gym let us create that environment quickly."
   ]
  },
  {
   "cell_type": "code",
   "execution_count": 40,
   "id": "d36046c4",
   "metadata": {},
   "outputs": [],
   "source": [
    "# import necessary libraries\n",
    "import gymnasium as gym\n",
    "import numpy as np\n",
    "import random\n",
    "import matplotlib.pyplot as plt\n",
    "import time\n",
    "from IPython.display import clear_output"
   ]
  },
  {
   "cell_type": "code",
   "execution_count": 46,
   "id": "4d0d5854",
   "metadata": {},
   "outputs": [],
   "source": [
    "# Initialize Environment and Agent Parameters\n",
    "env = gym.make(\"Taxi-v3\", render_mode='ansi')\n",
    "\n",
    "q_table = np.zeros([env.observation_space.n, env.action_space.n])\n",
    "\n",
    "# hyperparameters\n",
    "alpha = 0.7   # learning rate\n",
    "gamma = 0.618 # Discount factor\n",
    "epsilon = 1.0 # exploration rate\n",
    "epsilon_decay = 0.01\n",
    "min_epsilon = 0.1\n",
    "episodes = 10000\n",
    "\n",
    "# stats\n",
    "all_epochs = []\n",
    "all_penalties = []"
   ]
  },
  {
   "cell_type": "code",
   "execution_count": 47,
   "id": "d6da7a0c",
   "metadata": {},
   "outputs": [
    {
     "name": "stdout",
     "output_type": "stream",
     "text": [
      "Episode: 1000\n",
      "Episode: 2000\n",
      "Episode: 3000\n",
      "Episode: 4000\n",
      "Episode: 5000\n",
      "Episode: 6000\n",
      "Episode: 7000\n",
      "Episode: 8000\n",
      "Episode: 9000\n",
      "Episode: 10000\n"
     ]
    }
   ],
   "source": [
    "# Q learning Algorithm (Training Loop) - Epsilon Greedy Strategy\n",
    "for episode in range(episodes):\n",
    "    state, _ = env.reset()\n",
    "    epochs, penalties, reward = 0,0,0\n",
    "    done = False\n",
    "    while not done:\n",
    "        if random.uniform(0,1) < epsilon:\n",
    "            action = env.action_space.sample() # explore\n",
    "        else:\n",
    "            action = np.argmax(q_table[state]) # exploit\n",
    "        next_state, reward, terminated, truncated, _ = env.step(action)\n",
    "        done = terminated or truncated\n",
    "        old_value = q_table[state, action]\n",
    "        next_max = np.max(q_table[next_state])\n",
    "        q_table[state,action] = old_value + alpha * (reward + gamma * next_max - old_value)\n",
    "        if reward == -10:\n",
    "            penalties += 1\n",
    "        state = next_state\n",
    "        epochs += 1\n",
    "    epsilon = max(min_epsilon, epsilon - epsilon_decay)\n",
    "    all_epochs.append(epochs)\n",
    "    all_penalties.append(penalties)\n",
    "    if (episode + 1) % 1000 == 0:\n",
    "        print(f\"Episode: {episode + 1}\")"
   ]
  },
  {
   "cell_type": "code",
   "execution_count": 43,
   "id": "257f6f2b",
   "metadata": {},
   "outputs": [
    {
     "data": {
      "image/png": "[encoded data removed]",
      "text/plain": [
       "<Figure size 640x480 with 1 Axes>"
      ]
     },
     "metadata": {},
     "output_type": "display_data"
    }
   ],
   "source": [
    "# Visuaize Training set\n",
    "plt.plot(all_penalties)\n",
    "plt.title(\"Penalties per episode\")\n",
    "plt.xlabel(\"Episode\")\n",
    "plt.ylabel(\"Penalties\")\n",
    "plt.grid(True)\n",
    "plt.show()"
   ]
  },
  {
   "cell_type": "code",
   "execution_count": 44,
   "id": "57e80d34",
   "metadata": {},
   "outputs": [
    {
     "name": "stdout",
     "output_type": "stream",
     "text": [
      "results after 9999 episodes: \n",
      " Average timestep per episode: 13.17\n",
      " Average penalties per episode: 0.0\n"
     ]
    }
   ],
   "source": [
    "# Evaluate the trained model\n",
    "total_epochs, total_penalties = 0,0 \n",
    "episodes = 100\n",
    "\n",
    "for _ in range(episodes):\n",
    "    state, _ = env.reset()\n",
    "    done = False\n",
    "    epochs, penalties = 0,0 \n",
    "\n",
    "    while not done:\n",
    "        action = np.argmax(q_table[state])\n",
    "        state, reward, terminated, truncated, _ = env.step(action)\n",
    "        done = terminated or truncated\n",
    "\n",
    "        if reward == -10:\n",
    "            penalties += 1\n",
    "        epochs += 1\n",
    "    total_penalties += penalties\n",
    "    total_epochs += epochs\n",
    "\n",
    "print(f\"results after {episode} episodes: \")\n",
    "print(f\" Average timestep per episode: {total_epochs / episodes}\")\n",
    "print(f\" Average penalties per episode: {total_penalties / episodes}\")"
   ]
  },
  {
   "cell_type": "code",
   "execution_count": 48,
   "id": "2c6441fa",
   "metadata": {},
   "outputs": [
    {
     "name": "stdout",
     "output_type": "stream",
     "text": [
      "+---------+\n",
      "|R: | : :G|\n",
      "| : | : : |\n",
      "| : : : : |\n",
      "| | : | : |\n",
      "|Y| : |\u001b[35m\u001b[42mB\u001b[0m\u001b[0m: |\n",
      "+---------+\n",
      "  (South)\n",
      "\n"
     ]
    }
   ],
   "source": [
    "# Render one episode (Animation)\n",
    "state, _ =  env.reset()\n",
    "done  =  False\n",
    "\n",
    "while not done:\n",
    "    clear_output(wait=True)\n",
    "    print(env.render())\n",
    "    action = np.argmax(q_table[state])\n",
    "    state, reward, terminated, truncated, _ = env.step(action)\n",
    "    done = terminated or truncated\n",
    "    time.sleep(0.5)"
   ]
  },
  {
   "cell_type": "code",
   "execution_count": null,
   "id": "627620c1",
   "metadata": {},
   "outputs": [],
   "source": [
    "# save q table\n",
    "import pickle\n",
    "with open(\"q_table.pkl\", \"wb\") as f:\n",
    "    pickle.dump(q_table,f)"
   ]
  }
 ],
 "metadata": {
  "kernelspec": {
   "display_name": "ds_env",
   "language": "python",
   "name": "python3"
  },
  "language_info": {
   "codemirror_mode": {
    "name": "ipython",
    "version": 3
   },
   "file_extension": ".py",
   "mimetype": "text/x-python",
   "name": "python",
   "nbconvert_exporter": "python",
   "pygments_lexer": "ipython3",
   "version": "3.11.11"
  }
 },
 "nbformat": 4,
 "nbformat_minor": 5
}
